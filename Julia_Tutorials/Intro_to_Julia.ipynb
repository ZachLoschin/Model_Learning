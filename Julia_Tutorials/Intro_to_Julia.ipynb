{
 "cells": [
  {
   "cell_type": "markdown",
   "metadata": {},
   "source": [
    "Zachary Loschinskey\n",
    "\n",
    "December 2024\n",
    "\n",
    "Formally learning Julia syntax over the break\n",
    "\n",
    "Following this course\n",
    "\n",
    "https://juliaacademy.com/courses/375479/"
   ]
  },
  {
   "cell_type": "code",
   "execution_count": 17,
   "metadata": {},
   "outputs": [
    {
     "name": "stdout",
     "output_type": "stream",
     "text": [
      "This is how to print\n",
      "Int64\n",
      "Float64\n",
      "String\n"
     ]
    },
    {
     "data": {
      "text/plain": [
       "100.0"
      ]
     },
     "metadata": {},
     "output_type": "display_data"
    }
   ],
   "source": [
    "# Printing\n",
    "println(\"This is how to print\")\n",
    "\n",
    "# Assigning Variables -> Julia is dynamically typed\n",
    "x = 42\n",
    "println(typeof(x))\n",
    "\n",
    "my_pi = 3.14159\n",
    "println(typeof(my_pi))\n",
    "\n",
    "# Note that any unicode character can be used as a variable name\n",
    "🍕 = \"Hello World!\"\n",
    "println(typeof(🍕))\n",
    "\n",
    "#=\n",
    "For multi-line comments\n",
    "you can do something like this\n",
    "=#\n",
    "\n",
    "# Basic math is the same as in python for the most part except:\n",
    "power = 10^2\n",
    "\n",
    "# The convert function can be used to convert data types\n",
    "convert(Float64, power)"
   ]
  },
  {
   "cell_type": "code",
   "execution_count": 27,
   "metadata": {},
   "outputs": [
    {
     "name": "stdout",
     "output_type": "stream",
     "text": [
      "This is also \"my\" string\n",
      "I have 5 pepporoni pizzas\n",
      "Hello World\n",
      "Hello World\n"
     ]
    }
   ],
   "source": [
    "# strings can be defined in two ways -> you can use triple quotes if you need to use quotes inside your string too\n",
    "mystr = \"This is my string\"\n",
    "mystr2 = \"\"\"This is also \"my\" string\"\"\"\n",
    "println(mystr2)\n",
    "\n",
    "# Note you can't use single quotes to define strings\n",
    "# Printing variables inside strings\n",
    "myPizza = \"pepporoni\"\n",
    "numPizzas = 5\n",
    "println(\"I have $numPizzas $myPizza pizzas\")\n",
    "\n",
    "# Strings can be concatenated using the string function\n",
    "mystr = string(\"Hello\", \" World\")\n",
    "println(mystr)\n",
    "\n",
    "# You can also use the star operator\n",
    "mystr = \"Hello\"*\" World\"\n",
    "println(mystr)"
   ]
  },
  {
   "cell_type": "code",
   "execution_count": null,
   "metadata": {},
   "outputs": [
    {
     "name": "stdout",
     "output_type": "stream",
     "text": [
      "Dict(\"Jake\" => \"201-837-3838\", \"Andrea\" => \"312-415-1523\", \"Zach\" => \"101-182-4120\")\n",
      "101-182-4120\n",
      "Dict(\"Jake\" => \"201-837-3838\", \"Andrea\" => \"312-415-1523\")\n"
     ]
    }
   ],
   "source": [
    "# Julia Dictionaries\n",
    "myphonebook = Dict(\"Allie\" => \"312-415-1523\", \"Zach\" => \"101-182-4120\")\n",
    "\n",
    "# Add another entry\n",
    "myphonebook[\"Jake\"] = \"201-837-3838\"\n",
    "\n",
    "println(myphonebook)\n",
    "\n",
    "# To get a single element\n",
    "println(myphonebook[\"Zach\"])\n",
    "\n",
    "# pop! function will delete entry and return the value at that key\n",
    "pop!(myphonebook, \"Zach\")\n",
    "println(myphonebook)"
   ]
  },
  {
   "cell_type": "code",
   "execution_count": null,
   "metadata": {},
   "outputs": [
    {
     "name": "stdout",
     "output_type": "stream",
     "text": [
      "Cats\n"
     ]
    }
   ],
   "source": [
    "# Julia Tuples -> sequential structures in Julia are base 1\n",
    "myfavanimals = (\"Cats\", \"Dogs\", \"Hamsters\")\n",
    "println(myfavanimals[1])\n",
    "\n",
    "# Note that tuples are immutable -> they can't be changed once defined"
   ]
  },
  {
   "cell_type": "code",
   "execution_count": 49,
   "metadata": {},
   "outputs": [
    {
     "name": "stdout",
     "output_type": "stream",
     "text": [
      "Vector{String}\n",
      "Vector{Int64}\n",
      "Vector{Any}\n",
      "Linda\n",
      "[1, 1, 2, 3, 5, 8, 13, 21]\n",
      "[1, 1, 2, 3, 5, 8, 13]\n"
     ]
    },
    {
     "data": {
      "text/plain": [
       "4×3×2 Array{Float64, 3}:\n",
       "[:, :, 1] =\n",
       " 0.754015  0.878893    0.745331\n",
       " 0.580797  0.00880785  0.110161\n",
       " 0.560903  0.672003    0.632901\n",
       " 0.980287  0.396603    0.873341\n",
       "\n",
       "[:, :, 2] =\n",
       " 0.0913707  0.969497  0.583143\n",
       " 0.252497   0.104377  0.945368\n",
       " 0.588886   0.160317  0.43937\n",
       " 0.08917    0.384865  0.729455"
      ]
     },
     "metadata": {},
     "output_type": "display_data"
    }
   ],
   "source": [
    "# Julia Arrays -> sequential, mutable\n",
    "myfriends = [\"Bob\", \"Linda\", \"Tina\", \"Louise\", \"Gene\"]\n",
    "fibonacci = [1, 1, 2, 3, 5, 8, 13]\n",
    "mix = [1, 2, 3, \"hi\"]\n",
    "\n",
    "println(typeof(myfriends))\n",
    "println(typeof(fibonacci))\n",
    "println(typeof(mix))\n",
    "\n",
    "# To index we use base 1 indexing\n",
    "println(myfriends[2])\n",
    "\n",
    "# You can add elements using the push!(array, element) function -> adds to end of array\n",
    "push!(fibonacci, 21)\n",
    "println(fibonacci)\n",
    "\n",
    "# You can remove elements using the pop!(array) fucntion -> takes off last element\n",
    "pop!(fibonacci)\n",
    "println(fibonacci)\n",
    "\n",
    "# You can also create multidimensional Arrays -> they are column major\n",
    "rand(4,3,2)\n",
    "\n"
   ]
  },
  {
   "cell_type": "code",
   "execution_count": 54,
   "metadata": {},
   "outputs": [
    {
     "name": "stdout",
     "output_type": "stream",
     "text": [
      "0\n",
      "1\n",
      "2\n",
      "3\n",
      "4\n"
     ]
    }
   ],
   "source": [
    "# While loops in Julia\n",
    "n = 0\n",
    "while n<5\n",
    "    println(n)\n",
    "    n+=1\n",
    "end\n"
   ]
  },
  {
   "cell_type": "code",
   "execution_count": 61,
   "metadata": {},
   "outputs": [
    {
     "name": "stdout",
     "output_type": "stream",
     "text": [
      "0\n",
      "1\n",
      "2\n",
      "3\n",
      "4\n",
      "\n",
      "Jimmy Jr.\n",
      "Jimmy Pest\n",
      "Hugo\n",
      "Ron\n"
     ]
    }
   ],
   "source": [
    "# For loops in Julia\n",
    "for n in 0:4\n",
    "    println(n)\n",
    "end\n",
    "\n",
    "println()\n",
    "\n",
    "mylist = [\"Jimmy Jr.\", \"Jimmy Pest\", \"Hugo\", \"Ron\"]\n",
    "for element in mylist\n",
    "    println(element)\n",
    "end\n",
    "\n",
    "# Note: you can replace the \"in\" keyword with \"=\" or \"∈\" (\\in)"
   ]
  },
  {
   "cell_type": "code",
   "execution_count": 64,
   "metadata": {},
   "outputs": [
    {
     "data": {
      "text/plain": [
       "5×5 Matrix{Float64}:\n",
       " 2.0  3.0  4.0  5.0   6.0\n",
       " 3.0  4.0  5.0  6.0   7.0\n",
       " 4.0  5.0  6.0  7.0   8.0\n",
       " 5.0  6.0  7.0  8.0   9.0\n",
       " 6.0  7.0  8.0  9.0  10.0"
      ]
     },
     "metadata": {},
     "output_type": "display_data"
    }
   ],
   "source": [
    "# Typical nested for loop\n",
    "m, n = 5, 5\n",
    "A = zeros(m, n)\n",
    "\n",
    "for i in 1:m\n",
    "    for j in 1:n\n",
    "        A[i,j] = i+j\n",
    "    end\n",
    "end\n",
    "\n",
    "A"
   ]
  },
  {
   "cell_type": "code",
   "execution_count": 68,
   "metadata": {},
   "outputs": [
    {
     "data": {
      "text/plain": [
       "5×5 Matrix{Float64}:\n",
       " 2.0  3.0  4.0  5.0   6.0\n",
       " 3.0  4.0  5.0  6.0   7.0\n",
       " 4.0  5.0  6.0  7.0   8.0\n",
       " 5.0  6.0  7.0  8.0   9.0\n",
       " 6.0  7.0  8.0  9.0  10.0"
      ]
     },
     "metadata": {},
     "output_type": "display_data"
    }
   ],
   "source": [
    "# Double for loop\n",
    "B = zeros(m, n)\n",
    "for i in 1:m, j in 1:n\n",
    "    B[i,j] = i+j\n",
    "end\n",
    "B"
   ]
  },
  {
   "cell_type": "code",
   "execution_count": 70,
   "metadata": {},
   "outputs": [
    {
     "data": {
      "text/plain": [
       "5×5 Matrix{Int64}:\n",
       " 2  3  4  5   6\n",
       " 3  4  5  6   7\n",
       " 4  5  6  7   8\n",
       " 5  6  7  8   9\n",
       " 6  7  8  9  10"
      ]
     },
     "metadata": {},
     "output_type": "display_data"
    }
   ],
   "source": [
    "# Array comprehension\n",
    "C = [i+j for i in 1:m, j in 1:n]\n",
    "C"
   ]
  },
  {
   "cell_type": "code",
   "execution_count": null,
   "metadata": {},
   "outputs": [],
   "source": []
  }
 ],
 "metadata": {
  "kernelspec": {
   "display_name": "Julia 1.10.1",
   "language": "julia",
   "name": "julia-1.10"
  },
  "language_info": {
   "file_extension": ".jl",
   "mimetype": "application/julia",
   "name": "julia",
   "version": "1.10.1"
  }
 },
 "nbformat": 4,
 "nbformat_minor": 2
}
